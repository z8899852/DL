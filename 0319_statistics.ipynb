{
  "nbformat": 4,
  "nbformat_minor": 0,
  "metadata": {
    "colab": {
      "name": "0319-statistics.ipynb",
      "provenance": [],
      "authorship_tag": "ABX9TyOhGloSDVYgZ6Kp7Po0eeTJ",
      "include_colab_link": true
    },
    "kernelspec": {
      "name": "python3",
      "display_name": "Python 3"
    }
  },
  "cells": [
    {
      "cell_type": "markdown",
      "metadata": {
        "id": "view-in-github",
        "colab_type": "text"
      },
      "source": [
        "<a href=\"https://colab.research.google.com/github/z8899852/DL/blob/master/0319_statistics.ipynb\" target=\"_parent\"><img src=\"https://colab.research.google.com/assets/colab-badge.svg\" alt=\"Open In Colab\"/></a>"
      ]
    },
    {
      "cell_type": "markdown",
      "metadata": {
        "id": "jGoN6b_Uynde",
        "colab_type": "text"
      },
      "source": [
        "# statistics"
      ]
    },
    {
      "cell_type": "code",
      "metadata": {
        "id": "hTebXeSOYa2r",
        "colab_type": "code",
        "colab": {}
      },
      "source": [
        ""
      ],
      "execution_count": 0,
      "outputs": []
    }
  ]
}