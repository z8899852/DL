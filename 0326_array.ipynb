{
  "nbformat": 4,
  "nbformat_minor": 0,
  "metadata": {
    "colab": {
      "name": "0326-Array.ipynb",
      "provenance": [],
      "authorship_tag": "ABX9TyN8YxO9zYBa86MqclcolgVl",
      "include_colab_link": true
    },
    "kernelspec": {
      "name": "python3",
      "display_name": "Python 3"
    }
  },
  "cells": [
    {
      "cell_type": "markdown",
      "metadata": {
        "id": "view-in-github",
        "colab_type": "text"
      },
      "source": [
        "<a href=\"https://colab.research.google.com/github/z8899852/DL/blob/master/0326_array.ipynb\" target=\"_parent\"><img src=\"https://colab.research.google.com/assets/colab-badge.svg\" alt=\"Open In Colab\"/></a>"
      ]
    },
    {
      "cell_type": "markdown",
      "metadata": {
        "id": "Y3osxsNjgSxr",
        "colab_type": "text"
      },
      "source": [
        "# 陣列-上課"
      ]
    },
    {
      "cell_type": "code",
      "metadata": {
        "id": "RFGAhXkPf4mj",
        "colab_type": "code",
        "outputId": "9fa05cd4-1fb1-4b81-e61e-838a10c6ae78",
        "colab": {
          "base_uri": "https://localhost:8080/",
          "height": 67
        }
      },
      "source": [
        "import numpy as np\n",
        "np.array([range(i, i + 3) for i in [2, 4, 6]])"
      ],
      "execution_count": 0,
      "outputs": [
        {
          "output_type": "execute_result",
          "data": {
            "text/plain": [
              "array([[2, 3, 4],\n",
              "       [4, 5, 6],\n",
              "       [6, 7, 8]])"
            ]
          },
          "metadata": {
            "tags": []
          },
          "execution_count": 1
        }
      ]
    },
    {
      "cell_type": "markdown",
      "metadata": {
        "id": "J5VGqgIKgZck",
        "colab_type": "text"
      },
      "source": [
        "# 陣列-作業一"
      ]
    },
    {
      "cell_type": "code",
      "metadata": {
        "id": "5NUejGJtgSZx",
        "colab_type": "code",
        "outputId": "1150502b-3e2e-4681-97cf-194d5c4cb713",
        "colab": {
          "base_uri": "https://localhost:8080/",
          "height": 50
        }
      },
      "source": [
        "import numpy as np\n",
        "np.tile(np.array([[1,2],[6,7]]),3)"
      ],
      "execution_count": 0,
      "outputs": [
        {
          "output_type": "execute_result",
          "data": {
            "text/plain": [
              "array([[1, 2, 1, 2, 1, 2],\n",
              "       [6, 7, 6, 7, 6, 7]])"
            ]
          },
          "metadata": {
            "tags": []
          },
          "execution_count": 2
        }
      ]
    },
    {
      "cell_type": "markdown",
      "metadata": {
        "id": "GVZCUHGSgrHX",
        "colab_type": "text"
      },
      "source": [
        "# 陣列-作業二"
      ]
    },
    {
      "cell_type": "code",
      "metadata": {
        "id": "y6w2jIBBgtcD",
        "colab_type": "code",
        "outputId": "abc3a7c2-437b-4769-d19a-bc4816a1d544",
        "colab": {
          "base_uri": "https://localhost:8080/",
          "height": 84
        }
      },
      "source": [
        "import numpy as np\n",
        "np.tile(np.array([[1,2],[6,7]]),(2,2))"
      ],
      "execution_count": 0,
      "outputs": [
        {
          "output_type": "execute_result",
          "data": {
            "text/plain": [
              "array([[1, 2, 1, 2],\n",
              "       [6, 7, 6, 7],\n",
              "       [1, 2, 1, 2],\n",
              "       [6, 7, 6, 7]])"
            ]
          },
          "metadata": {
            "tags": []
          },
          "execution_count": 3
        }
      ]
    },
    {
      "cell_type": "markdown",
      "metadata": {
        "id": "m2s1uVVwg-zE",
        "colab_type": "text"
      },
      "source": [
        "# 陣列-作業三"
      ]
    },
    {
      "cell_type": "code",
      "metadata": {
        "id": "rTqjPVXfhIMf",
        "colab_type": "code",
        "outputId": "1060f388-5b5f-4d59-b595-5162214ec26d",
        "colab": {
          "base_uri": "https://localhost:8080/",
          "height": 50
        }
      },
      "source": [
        "import numpy as np\n",
        "np.tile(np.array([[1,2],[6,7]]),3)"
      ],
      "execution_count": 0,
      "outputs": [
        {
          "output_type": "execute_result",
          "data": {
            "text/plain": [
              "array([[1, 2, 1, 2, 1, 2],\n",
              "       [6, 7, 6, 7, 6, 7]])"
            ]
          },
          "metadata": {
            "tags": []
          },
          "execution_count": 4
        }
      ]
    },
    {
      "cell_type": "markdown",
      "metadata": {
        "id": "a3UzQiwRhFTw",
        "colab_type": "text"
      },
      "source": [
        "# 陣列-作業四"
      ]
    },
    {
      "cell_type": "code",
      "metadata": {
        "id": "q8Yg_QD7hJmN",
        "colab_type": "code",
        "outputId": "a1415e8c-ac43-4d88-9089-edefc4bc60a5",
        "colab": {
          "base_uri": "https://localhost:8080/",
          "height": 84
        }
      },
      "source": [
        "import numpy as np\n",
        "np.tile(np.array([[1,2],[6,7]]),(2,2))"
      ],
      "execution_count": 0,
      "outputs": [
        {
          "output_type": "execute_result",
          "data": {
            "text/plain": [
              "array([[1, 2, 1, 2],\n",
              "       [6, 7, 6, 7],\n",
              "       [1, 2, 1, 2],\n",
              "       [6, 7, 6, 7]])"
            ]
          },
          "metadata": {
            "tags": []
          },
          "execution_count": 5
        }
      ]
    }
  ]
}