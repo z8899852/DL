{
  "nbformat": 4,
  "nbformat_minor": 0,
  "metadata": {
    "colab": {
      "name": "0514-tensorflow-unit01.ipynb",
      "provenance": [],
      "authorship_tag": "ABX9TyM9GrrMvB0U9SIZOn/YrtAA",
      "include_colab_link": true
    },
    "kernelspec": {
      "name": "python3",
      "display_name": "Python 3"
    }
  },
  "cells": [
    {
      "cell_type": "markdown",
      "metadata": {
        "id": "view-in-github",
        "colab_type": "text"
      },
      "source": [
        "<a href=\"https://colab.research.google.com/github/z8899852/DL/blob/master/0514_tensorflow_unit01.ipynb\" target=\"_parent\"><img src=\"https://colab.research.google.com/assets/colab-badge.svg\" alt=\"Open In Colab\"/></a>"
      ]
    },
    {
      "cell_type": "code",
      "metadata": {
        "id": "ls2T07lz3eHz",
        "colab_type": "code",
        "colab": {
          "base_uri": "https://localhost:8080/",
          "height": 50
        },
        "outputId": "b502965e-5094-4798-e574-ed60b1b1cc51"
      },
      "source": [
        "import tensorflow as tf\n",
        "\n",
        "\n",
        "# 產生一個常數\n",
        "c = tf.constant(1)\n",
        "# 產生一個變數\n",
        "v = tf.Variable(1)\n",
        "print(c)\n",
        "#print(v)\n",
        "#scalar(常數就是標量)\n",
        "print(\"{}階Tensor\".format(c.ndim))\n"
      ],
      "execution_count": 1,
      "outputs": [
        {
          "output_type": "stream",
          "text": [
            "tf.Tensor(1, shape=(), dtype=int32)\n",
            "<tf.Variable 'Variable:0' shape=() dtype=int32, numpy=1>\n"
          ],
          "name": "stdout"
        }
      ]
    },
    {
      "cell_type": "code",
      "metadata": {
        "id": "It6fRIIn4GQv",
        "colab_type": "code",
        "colab": {
          "base_uri": "https://localhost:8080/",
          "height": 34
        },
        "outputId": "beabaf14-dfaf-4035-b1be-cccd20dc0b35"
      },
      "source": [
        "#一階張量稱為向量。\n",
        "x = tf.constant([1, 2, 3, 4, 5, 6]) \n",
        "print(\"{}階Tensor \".format(x.ndim))    # 顯示Tensor的維度"
      ],
      "execution_count": 2,
      "outputs": [
        {
          "output_type": "stream",
          "text": [
            "1階Tensor \n"
          ],
          "name": "stdout"
        }
      ]
    }
  ]
}